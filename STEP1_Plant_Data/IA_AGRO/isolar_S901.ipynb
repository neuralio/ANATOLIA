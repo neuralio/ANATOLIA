{
 "cells": [
  {
   "cell_type": "code",
   "execution_count": 85,
   "id": "320cf995",
   "metadata": {},
   "outputs": [],
   "source": [
    "from selenium import webdriver\n",
    "from selenium.webdriver.common.keys import Keys\n",
    "from selenium.webdriver.chrome.options import Options\n",
    "from selenium.webdriver.common.by import By\n",
    "from selenium.webdriver.support.ui import WebDriverWait\n",
    "from selenium.webdriver.common.by import By\n",
    "from selenium.webdriver.support import expected_conditions as EC\n",
    "import time\n",
    "from datetime import datetime, timedelta\n",
    "from dateutil import relativedelta\n",
    "from selenium.webdriver.chrome.options import Options\n",
    "import shutil\n",
    "import os "
   ]
  },
  {
   "cell_type": "code",
   "execution_count": 86,
   "id": "47e68a7c",
   "metadata": {},
   "outputs": [
    {
     "name": "stdout",
     "output_type": "stream",
     "text": [
      "/Users/paraskevivourlioti/Documents/NEURALIO/KYKLOS/DATA_KYKLOS/SCRIPTS/ONSITE_DATA/IA_AGRO\n",
      "/Users/paraskevivourlioti/Documents/NEURALIO/KYKLOS/DATA_KYKLOS/SCRIPTS/ONSITE_DATA\n",
      "/Users/paraskevivourlioti/Documents/NEURALIO/KYKLOS/DATA_KYKLOS/SCRIPTS/ONSITE_DATA/DATA_IA_S901\n",
      "DATA for S901 from IA AGRO are beeing send here: \n",
      "/Users/paraskevivourlioti/Documents/NEURALIO/KYKLOS/DATA_KYKLOS/SCRIPTS/ONSITE_DATA/DATA_IA_S901\n"
     ]
    }
   ],
   "source": [
    "print(os.getcwd())\n",
    "path_here=os.getcwd()\n",
    "head_tail = os.path.split(path_here)\n",
    "print(head_tail[0])\n",
    "name_folder=\"DATA_IA_S901\"\n",
    "path_out=os.path.join(head_tail[0], name_folder)\n",
    "print(path_out)\n",
    "shutil.rmtree(path_out, ignore_errors=True)\n",
    "isExist = os.path.exists(path_out) \n",
    "if not isExist: \n",
    "   os.makedirs(path_out)\n",
    "print(\"DATA for S901 from IA AGRO are beeing send here: \")\n",
    "print(path_out)"
   ]
  },
  {
   "cell_type": "code",
   "execution_count": 87,
   "id": "d43240b2",
   "metadata": {},
   "outputs": [],
   "source": [
    "# Set up the Chrome driver\n",
    "#driver = webdriver.Chrome()\n",
    "chrome_options = Options()\n",
    "prefs = {'profile.default_content_setting_values.automatic_downloads': 1, 'download.default_directory': path_out }\n",
    "chrome_options.add_experimental_option(\"prefs\", prefs)\n",
    "driver = webdriver.Chrome(options=chrome_options)"
   ]
  },
  {
   "cell_type": "code",
   "execution_count": 88,
   "id": "11aca3e6",
   "metadata": {},
   "outputs": [],
   "source": [
    "# Navigate to the data loger: (NOT GOOD)\n",
    "driver.get('https://www.isolarcloud.eu/')"
   ]
  },
  {
   "cell_type": "code",
   "execution_count": 89,
   "id": "dc770b49",
   "metadata": {},
   "outputs": [],
   "source": [
    "# --- Interact with the webpage via html \n",
    "# ---- Log in \n",
    "username_field = driver.find_element(By.ID, \"userAcct\")\n",
    "password_field = driver.find_element(By.ID,\"userPswd\") \n",
    "username_field.send_keys('<userID>')\n",
    "password_field.send_keys('<password>')\n",
    "password_field.send_keys(Keys.RETURN)"
   ]
  },
  {
   "cell_type": "code",
   "execution_count": 90,
   "id": "6ab241a8",
   "metadata": {},
   "outputs": [],
   "source": [
    "#--- Accept Privacy Policy\n",
    "button_agree = driver.find_element('xpath', '/html/body/div[1]/div/div[2]/span[1]')\n",
    "button_agree.click()"
   ]
  },
  {
   "cell_type": "code",
   "execution_count": 97,
   "id": "3369025d",
   "metadata": {},
   "outputs": [],
   "source": [
    "#--- Go to the specific plant S901\n",
    "button_plant = driver.find_element('xpath', '/html/body/div/div[1]/div[1]/section/div/div[2]/div[2]/div[3]/table/tbody/tr[2]/td[2]/div/span')\n",
    "button_plant.click()"
   ]
  },
  {
   "cell_type": "code",
   "execution_count": 83,
   "id": "bdad0bc7",
   "metadata": {},
   "outputs": [],
   "source": [
    "# # HOURLY DATA\n",
    "\n",
    "# #--- Set the day range\n",
    "# first_day = datetime.strptime('2022/12/30', \"%Y/%m/%d\")\n",
    "# last_day = datetime.strptime('2023/01/02', \"%Y/%m/%d\")\n",
    "# diff=last_day-first_day\n",
    "\n",
    "# for i in range(0,diff.days+1):\n",
    "#     year=str(last_day - timedelta(days=i))[0:4]\n",
    "#     month=str(last_day - timedelta(days=i))[5:7]\n",
    "#     day=str(last_day - timedelta(days=i))[8:10]\n",
    "#     print(f'Download Data for: {year}/{month}/{day}')\n",
    "#     button_date = driver.find_element('xpath', '/html/body/div[1]/div[1]/div[1]/section/div/div[2]/div/div[3]/div[1]/div[2]/div/input')\n",
    "#     button_date.clear()\n",
    "#     button_date.send_keys(f'{year}/{month}/{day}')\n",
    "#     button_date.send_keys(Keys.RETURN)\n",
    "#     export_button = driver.find_element('xpath', '/html/body/div[1]/div[1]/div[1]/section/div/div[2]/div/div[3]/div[2]/div[1]/div[1]/div/button')\n",
    "#     export_button.click()\n",
    "#     csv_download = driver.find_element('xpath', '/html/body/ul/li[2]') \n",
    "#     driver.execute_script(\"arguments[0].click();\", csv_download)\n",
    "#     time.sleep(3)"
   ]
  },
  {
   "cell_type": "code",
   "execution_count": 98,
   "id": "e8ce5035",
   "metadata": {},
   "outputs": [
    {
     "name": "stdout",
     "output_type": "stream",
     "text": [
      "Download Data for: 2011/01\n",
      "Download Data for: 2011/02\n"
     ]
    },
    {
     "ename": "StaleElementReferenceException",
     "evalue": "Message: stale element reference: element is not attached to the page document\n  (Session info: chrome=112.0.5615.137)\nStacktrace:\n0   chromedriver                        0x00000001011b1670 chromedriver + 4298352\n1   chromedriver                        0x00000001011a9bbc chromedriver + 4266940\n2   chromedriver                        0x0000000100ddc758 chromedriver + 280408\n3   chromedriver                        0x0000000100de00c8 chromedriver + 295112\n4   chromedriver                        0x0000000100ddfd74 chromedriver + 294260\n5   chromedriver                        0x0000000100de0170 chromedriver + 295280\n6   chromedriver                        0x0000000100e189e0 chromedriver + 526816\n7   chromedriver                        0x0000000100e18b90 chromedriver + 527248\n8   chromedriver                        0x0000000100e0ee20 chromedriver + 486944\n9   chromedriver                        0x0000000100e0bb90 chromedriver + 474000\n10  chromedriver                        0x0000000100e50080 chromedriver + 753792\n11  chromedriver                        0x0000000100e0a2d0 chromedriver + 467664\n12  chromedriver                        0x0000000100e0b354 chromedriver + 471892\n13  chromedriver                        0x00000001011716c4 chromedriver + 4036292\n14  chromedriver                        0x0000000101175c64 chromedriver + 4054116\n15  chromedriver                        0x000000010117c2d8 chromedriver + 4080344\n16  chromedriver                        0x0000000101176970 chromedriver + 4057456\n17  chromedriver                        0x000000010114d8dc chromedriver + 3889372\n18  chromedriver                        0x000000010119525c chromedriver + 4182620\n19  chromedriver                        0x00000001011953b4 chromedriver + 4182964\n20  chromedriver                        0x00000001011a40f4 chromedriver + 4243700\n21  libsystem_pthread.dylib             0x00000001a256426c _pthread_start + 148\n22  libsystem_pthread.dylib             0x00000001a255f08c thread_start + 8\n",
     "output_type": "error",
     "traceback": [
      "\u001b[0;31m---------------------------------------------------------------------------\u001b[0m",
      "\u001b[0;31mStaleElementReferenceException\u001b[0m            Traceback (most recent call last)",
      "Input \u001b[0;32mIn [98]\u001b[0m, in \u001b[0;36m<cell line: 14>\u001b[0;34m()\u001b[0m\n\u001b[1;32m     21\u001b[0m button_date \u001b[38;5;241m=\u001b[39m driver\u001b[38;5;241m.\u001b[39mfind_element(\u001b[38;5;124m'\u001b[39m\u001b[38;5;124mxpath\u001b[39m\u001b[38;5;124m'\u001b[39m, \u001b[38;5;124m'\u001b[39m\u001b[38;5;124m/html/body/div[1]/div[1]/div[1]/section/div/div[2]/div/div[3]/div[1]/div[2]/div/input\u001b[39m\u001b[38;5;124m'\u001b[39m)\n\u001b[1;32m     22\u001b[0m button_date\u001b[38;5;241m.\u001b[39mclear()\n\u001b[0;32m---> 23\u001b[0m \u001b[43mbutton_date\u001b[49m\u001b[38;5;241;43m.\u001b[39;49m\u001b[43msend_keys\u001b[49m\u001b[43m(\u001b[49m\u001b[38;5;124;43mf\u001b[39;49m\u001b[38;5;124;43m'\u001b[39;49m\u001b[38;5;132;43;01m{\u001b[39;49;00m\u001b[43myear\u001b[49m\u001b[38;5;132;43;01m}\u001b[39;49;00m\u001b[38;5;124;43m/\u001b[39;49m\u001b[38;5;132;43;01m{\u001b[39;49;00m\u001b[43mmonth\u001b[49m\u001b[38;5;132;43;01m}\u001b[39;49;00m\u001b[38;5;124;43m'\u001b[39;49m\u001b[43m)\u001b[49m\n\u001b[1;32m     24\u001b[0m button_date\u001b[38;5;241m.\u001b[39msend_keys(Keys\u001b[38;5;241m.\u001b[39mRETURN)\n\u001b[1;32m     25\u001b[0m export_button \u001b[38;5;241m=\u001b[39m driver\u001b[38;5;241m.\u001b[39mfind_element(\u001b[38;5;124m'\u001b[39m\u001b[38;5;124mxpath\u001b[39m\u001b[38;5;124m'\u001b[39m, \u001b[38;5;124m'\u001b[39m\u001b[38;5;124m/html/body/div[1]/div[1]/div[1]/section/div/div[2]/div/div[3]/div[2]/div[1]/div[1]/div/button\u001b[39m\u001b[38;5;124m'\u001b[39m)\n",
      "File \u001b[0;32m/opt/homebrew/anaconda3/lib/python3.9/site-packages/selenium/webdriver/remote/webelement.py:231\u001b[0m, in \u001b[0;36mWebElement.send_keys\u001b[0;34m(self, *value)\u001b[0m\n\u001b[1;32m    228\u001b[0m             remote_files\u001b[38;5;241m.\u001b[39mappend(\u001b[38;5;28mself\u001b[39m\u001b[38;5;241m.\u001b[39m_upload(file))\n\u001b[1;32m    229\u001b[0m         value \u001b[38;5;241m=\u001b[39m \u001b[38;5;124m\"\u001b[39m\u001b[38;5;130;01m\\n\u001b[39;00m\u001b[38;5;124m\"\u001b[39m\u001b[38;5;241m.\u001b[39mjoin(remote_files)\n\u001b[0;32m--> 231\u001b[0m \u001b[38;5;28;43mself\u001b[39;49m\u001b[38;5;241;43m.\u001b[39;49m\u001b[43m_execute\u001b[49m\u001b[43m(\u001b[49m\n\u001b[1;32m    232\u001b[0m \u001b[43m    \u001b[49m\u001b[43mCommand\u001b[49m\u001b[38;5;241;43m.\u001b[39;49m\u001b[43mSEND_KEYS_TO_ELEMENT\u001b[49m\u001b[43m,\u001b[49m\u001b[43m \u001b[49m\u001b[43m{\u001b[49m\u001b[38;5;124;43m\"\u001b[39;49m\u001b[38;5;124;43mtext\u001b[39;49m\u001b[38;5;124;43m\"\u001b[39;49m\u001b[43m:\u001b[49m\u001b[43m \u001b[49m\u001b[38;5;124;43m\"\u001b[39;49m\u001b[38;5;124;43m\"\u001b[39;49m\u001b[38;5;241;43m.\u001b[39;49m\u001b[43mjoin\u001b[49m\u001b[43m(\u001b[49m\u001b[43mkeys_to_typing\u001b[49m\u001b[43m(\u001b[49m\u001b[43mvalue\u001b[49m\u001b[43m)\u001b[49m\u001b[43m)\u001b[49m\u001b[43m,\u001b[49m\u001b[43m \u001b[49m\u001b[38;5;124;43m\"\u001b[39;49m\u001b[38;5;124;43mvalue\u001b[39;49m\u001b[38;5;124;43m\"\u001b[39;49m\u001b[43m:\u001b[49m\u001b[43m \u001b[49m\u001b[43mkeys_to_typing\u001b[49m\u001b[43m(\u001b[49m\u001b[43mvalue\u001b[49m\u001b[43m)\u001b[49m\u001b[43m}\u001b[49m\n\u001b[1;32m    233\u001b[0m \u001b[43m\u001b[49m\u001b[43m)\u001b[49m\n",
      "File \u001b[0;32m/opt/homebrew/anaconda3/lib/python3.9/site-packages/selenium/webdriver/remote/webelement.py:403\u001b[0m, in \u001b[0;36mWebElement._execute\u001b[0;34m(self, command, params)\u001b[0m\n\u001b[1;32m    401\u001b[0m     params \u001b[38;5;241m=\u001b[39m {}\n\u001b[1;32m    402\u001b[0m params[\u001b[38;5;124m\"\u001b[39m\u001b[38;5;124mid\u001b[39m\u001b[38;5;124m\"\u001b[39m] \u001b[38;5;241m=\u001b[39m \u001b[38;5;28mself\u001b[39m\u001b[38;5;241m.\u001b[39m_id\n\u001b[0;32m--> 403\u001b[0m \u001b[38;5;28;01mreturn\u001b[39;00m \u001b[38;5;28;43mself\u001b[39;49m\u001b[38;5;241;43m.\u001b[39;49m\u001b[43m_parent\u001b[49m\u001b[38;5;241;43m.\u001b[39;49m\u001b[43mexecute\u001b[49m\u001b[43m(\u001b[49m\u001b[43mcommand\u001b[49m\u001b[43m,\u001b[49m\u001b[43m \u001b[49m\u001b[43mparams\u001b[49m\u001b[43m)\u001b[49m\n",
      "File \u001b[0;32m/opt/homebrew/anaconda3/lib/python3.9/site-packages/selenium/webdriver/remote/webdriver.py:440\u001b[0m, in \u001b[0;36mWebDriver.execute\u001b[0;34m(self, driver_command, params)\u001b[0m\n\u001b[1;32m    438\u001b[0m response \u001b[38;5;241m=\u001b[39m \u001b[38;5;28mself\u001b[39m\u001b[38;5;241m.\u001b[39mcommand_executor\u001b[38;5;241m.\u001b[39mexecute(driver_command, params)\n\u001b[1;32m    439\u001b[0m \u001b[38;5;28;01mif\u001b[39;00m response:\n\u001b[0;32m--> 440\u001b[0m     \u001b[38;5;28;43mself\u001b[39;49m\u001b[38;5;241;43m.\u001b[39;49m\u001b[43merror_handler\u001b[49m\u001b[38;5;241;43m.\u001b[39;49m\u001b[43mcheck_response\u001b[49m\u001b[43m(\u001b[49m\u001b[43mresponse\u001b[49m\u001b[43m)\u001b[49m\n\u001b[1;32m    441\u001b[0m     response[\u001b[38;5;124m\"\u001b[39m\u001b[38;5;124mvalue\u001b[39m\u001b[38;5;124m\"\u001b[39m] \u001b[38;5;241m=\u001b[39m \u001b[38;5;28mself\u001b[39m\u001b[38;5;241m.\u001b[39m_unwrap_value(response\u001b[38;5;241m.\u001b[39mget(\u001b[38;5;124m\"\u001b[39m\u001b[38;5;124mvalue\u001b[39m\u001b[38;5;124m\"\u001b[39m, \u001b[38;5;28;01mNone\u001b[39;00m))\n\u001b[1;32m    442\u001b[0m     \u001b[38;5;28;01mreturn\u001b[39;00m response\n",
      "File \u001b[0;32m/opt/homebrew/anaconda3/lib/python3.9/site-packages/selenium/webdriver/remote/errorhandler.py:245\u001b[0m, in \u001b[0;36mErrorHandler.check_response\u001b[0;34m(self, response)\u001b[0m\n\u001b[1;32m    243\u001b[0m         alert_text \u001b[38;5;241m=\u001b[39m value[\u001b[38;5;124m\"\u001b[39m\u001b[38;5;124malert\u001b[39m\u001b[38;5;124m\"\u001b[39m]\u001b[38;5;241m.\u001b[39mget(\u001b[38;5;124m\"\u001b[39m\u001b[38;5;124mtext\u001b[39m\u001b[38;5;124m\"\u001b[39m)\n\u001b[1;32m    244\u001b[0m     \u001b[38;5;28;01mraise\u001b[39;00m exception_class(message, screen, stacktrace, alert_text)  \u001b[38;5;66;03m# type: ignore[call-arg]  # mypy is not smart enough here\u001b[39;00m\n\u001b[0;32m--> 245\u001b[0m \u001b[38;5;28;01mraise\u001b[39;00m exception_class(message, screen, stacktrace)\n",
      "\u001b[0;31mStaleElementReferenceException\u001b[0m: Message: stale element reference: element is not attached to the page document\n  (Session info: chrome=112.0.5615.137)\nStacktrace:\n0   chromedriver                        0x00000001011b1670 chromedriver + 4298352\n1   chromedriver                        0x00000001011a9bbc chromedriver + 4266940\n2   chromedriver                        0x0000000100ddc758 chromedriver + 280408\n3   chromedriver                        0x0000000100de00c8 chromedriver + 295112\n4   chromedriver                        0x0000000100ddfd74 chromedriver + 294260\n5   chromedriver                        0x0000000100de0170 chromedriver + 295280\n6   chromedriver                        0x0000000100e189e0 chromedriver + 526816\n7   chromedriver                        0x0000000100e18b90 chromedriver + 527248\n8   chromedriver                        0x0000000100e0ee20 chromedriver + 486944\n9   chromedriver                        0x0000000100e0bb90 chromedriver + 474000\n10  chromedriver                        0x0000000100e50080 chromedriver + 753792\n11  chromedriver                        0x0000000100e0a2d0 chromedriver + 467664\n12  chromedriver                        0x0000000100e0b354 chromedriver + 471892\n13  chromedriver                        0x00000001011716c4 chromedriver + 4036292\n14  chromedriver                        0x0000000101175c64 chromedriver + 4054116\n15  chromedriver                        0x000000010117c2d8 chromedriver + 4080344\n16  chromedriver                        0x0000000101176970 chromedriver + 4057456\n17  chromedriver                        0x000000010114d8dc chromedriver + 3889372\n18  chromedriver                        0x000000010119525c chromedriver + 4182620\n19  chromedriver                        0x00000001011953b4 chromedriver + 4182964\n20  chromedriver                        0x00000001011a40f4 chromedriver + 4243700\n21  libsystem_pthread.dylib             0x00000001a256426c _pthread_start + 148\n22  libsystem_pthread.dylib             0x00000001a255f08c thread_start + 8\n"
     ]
    }
   ],
   "source": [
    "# DAILY DATA\n",
    "\n",
    "#--- Go to Month Tab\n",
    "#button_Month = driver.find_element('xpath', '/html/body/div[1]/div[1]/div[1]/section/div/div[2]/div/div[3]/div[1]/div[1]/button[2]/span')\n",
    "button_Month = driver.find_element('xpath', '//*[@id=\"overview-container\"]/div[3]/div[1]/div[1]/button[2]/span')\n",
    "button_Month.click()\n",
    "\n",
    "time.sleep(3)\n",
    "\n",
    "#--- Set the month range\n",
    "first_month='201101'\n",
    "last_month='201712'\n",
    "\n",
    "for i in range(int(first_month), int(last_month)+1):\n",
    "    year=str(i)[0:4]\n",
    "    month=str(i)[4:7]\n",
    "    if int(month) >= 1 and int(month) <= 12:\n",
    "        print(f'Download Data for: {year}/{month}')\n",
    "        button_Month = driver.find_element('xpath', '//*[@id=\"overview-container\"]/div[3]/div[1]/div[1]/button[2]/span')\n",
    "        button_Month.click()\n",
    "        button_date = driver.find_element('xpath', '/html/body/div[1]/div[1]/div[1]/section/div/div[2]/div/div[3]/div[1]/div[2]/div/input')\n",
    "        button_date.clear()\n",
    "        button_date.send_keys(f'{year}/{month}')\n",
    "        button_date.send_keys(Keys.RETURN)\n",
    "        export_button = driver.find_element('xpath', '/html/body/div[1]/div[1]/div[1]/section/div/div[2]/div/div[3]/div[2]/div[1]/div[1]/div/button')\n",
    "        export_button.click()\n",
    "        csv_download = driver.find_element('xpath', '/html/body/ul/li[2]') \n",
    "        driver.execute_script(\"arguments[0].click();\", csv_download)\n",
    "        time.sleep(3)\n",
    " "
   ]
  },
  {
   "cell_type": "code",
   "execution_count": 57,
   "id": "0818e6ff",
   "metadata": {},
   "outputs": [
    {
     "name": "stdout",
     "output_type": "stream",
     "text": [
      "Download Data for: 2020\n",
      "Download Data for: 2021\n",
      "Download Data for: 2022\n",
      "Download Data for: 2023\n"
     ]
    }
   ],
   "source": [
    "# # MONTHLY DATA\n",
    "\n",
    "# #--- Go to Year Tab\n",
    "# button_Year = driver.find_element('xpath', '/html/body/div[1]/div[1]/div[1]/section/div/div[2]/div/div[3]/div[1]/div[1]/button[3]/span')\n",
    "# button_Year.click()\n",
    "\n",
    "# time.sleep(3)\n",
    "\n",
    "# #--- Set the year range\n",
    "# first_year='2020'\n",
    "# last_year='2023'\n",
    "\n",
    "# for year in range(int(first_year), int(last_year)+1):\n",
    "#     print(f'Download Data for: {year}')\n",
    "#     button_date = driver.find_element('xpath', '/html/body/div[1]/div[1]/div[1]/section/div/div[2]/div/div[3]/div[1]/div[2]/div/input')\n",
    "#     button_date.clear()\n",
    "#     button_date.send_keys(f'{year}')\n",
    "#     button_date.send_keys(Keys.RETURN)\n",
    "#     export_button = driver.find_element('xpath', '/html/body/div[1]/div[1]/div[1]/section/div/div[2]/div/div[3]/div[2]/div[1]/div[1]/div/button')\n",
    "#     export_button.click()\n",
    "#     csv_download = driver.find_element('xpath', '/html/body/ul/li[2]') \n",
    "#     driver.execute_script(\"arguments[0].click();\", csv_download)\n",
    "#     time.sleep(3)"
   ]
  },
  {
   "cell_type": "code",
   "execution_count": null,
   "id": "b56171d8",
   "metadata": {},
   "outputs": [],
   "source": []
  }
 ],
 "metadata": {
  "kernelspec": {
   "display_name": "Python 3 (ipykernel)",
   "language": "python",
   "name": "python3"
  },
  "language_info": {
   "codemirror_mode": {
    "name": "ipython",
    "version": 3
   },
   "file_extension": ".py",
   "mimetype": "text/x-python",
   "name": "python",
   "nbconvert_exporter": "python",
   "pygments_lexer": "ipython3",
   "version": "3.9.12"
  }
 },
 "nbformat": 4,
 "nbformat_minor": 5
}

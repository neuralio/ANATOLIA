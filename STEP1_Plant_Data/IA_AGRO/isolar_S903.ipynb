{
 "cells": [
  {
   "cell_type": "code",
   "execution_count": null,
   "id": "320cf995",
   "metadata": {},
   "outputs": [],
   "source": [
    "from selenium import webdriver\n",
    "from selenium.webdriver.common.keys import Keys\n",
    "from selenium.webdriver.chrome.options import Options\n",
    "from selenium.webdriver.common.by import By\n",
    "from selenium.webdriver.support.ui import WebDriverWait\n",
    "from selenium.webdriver.common.by import By\n",
    "from selenium.webdriver.support import expected_conditions as EC\n",
    "import time\n",
    "from datetime import datetime, timedelta\n",
    "from dateutil import relativedelta\n",
    "from selenium.webdriver.chrome.options import Options\n",
    "import shutil"
   ]
  },
  {
   "cell_type": "code",
   "execution_count": null,
   "id": "d43240b2",
   "metadata": {},
   "outputs": [],
   "source": [
    "# Set up the Chrome driver\n",
    "#driver = webdriver.Chrome()\n",
    "chrome_options = Options()\n",
    "prefs = {'profile.default_content_setting_values.automatic_downloads': 1}\n",
    "chrome_options.add_experimental_option(\"prefs\", prefs)\n",
    "driver = webdriver.Chrome(options=chrome_options)"
   ]
  },
  {
   "cell_type": "code",
   "execution_count": null,
   "id": "11aca3e6",
   "metadata": {},
   "outputs": [],
   "source": [
    "# Navigate to the data loger: (NOT GOOD)\n",
    "driver.get('https://www.isolarcloud.eu/')"
   ]
  },
  {
   "cell_type": "code",
   "execution_count": null,
   "id": "dc770b49",
   "metadata": {},
   "outputs": [],
   "source": [
    "# --- Interact with the webpage via html \n",
    "# ---- Log in \n",
    "username_field = driver.find_element(By.ID, \"userAcct\")\n",
    "password_field = driver.find_element(By.ID,\"userPswd\") \n",
    "username_field.send_keys('mkaragiovanidis@gmail.com')\n",
    "password_field.send_keys('u5sy6sed')\n",
    "password_field.send_keys(Keys.RETURN)"
   ]
  },
  {
   "cell_type": "code",
   "execution_count": null,
   "id": "1ddae4e8",
   "metadata": {},
   "outputs": [],
   "source": [
    "#--- Accept Privacy Policy\n",
    "button_agree = driver.find_element('xpath', '/html/body/div[1]/div/div[2]/span[1]')\n",
    "button_agree.click()"
   ]
  },
  {
   "cell_type": "code",
   "execution_count": null,
   "id": "45aa5e29",
   "metadata": {},
   "outputs": [],
   "source": [
    "#--- Go to the specific plant S903\n",
    "button_plant = driver.find_element('xpath', '/html/body/div/div[1]/div[1]/section/div/div[2]/div[2]/div[3]/table/tbody/tr[3]/td[2]/div/span')\n",
    "button_plant.click()"
   ]
  },
  {
   "cell_type": "code",
   "execution_count": null,
   "id": "d13cca56",
   "metadata": {},
   "outputs": [],
   "source": [
    "# HOURLY DATA\n",
    "\n",
    "#--- Set the day range\n",
    "first_day = datetime.strptime('2022/12/30', \"%Y/%m/%d\")\n",
    "last_day = datetime.strptime('2023/01/02', \"%Y/%m/%d\")\n",
    "diff=last_day-first_day\n",
    "\n",
    "for i in range(0,diff.days+1):\n",
    "    year=str(last_day - timedelta(days=i))[0:4]\n",
    "    month=str(last_day - timedelta(days=i))[5:7]\n",
    "    day=str(last_day - timedelta(days=i))[8:10]\n",
    "    print(f'Download Data for: {year}/{month}/{day}')\n",
    "    button_date = driver.find_element('xpath', '/html/body/div[1]/div[1]/div[1]/section/div/div[2]/div/div[3]/div[1]/div[2]/div/input')\n",
    "    button_date.clear()\n",
    "    button_date.send_keys(f'{year}/{month}/{day}')\n",
    "    button_date.send_keys(Keys.RETURN)\n",
    "    export_button = driver.find_element('xpath', '/html/body/div[1]/div[1]/div[1]/section/div/div[2]/div/div[3]/div[2]/div[1]/div[1]/div/button')\n",
    "    export_button.click()\n",
    "    csv_download = driver.find_element('xpath', '/html/body/ul/li[2]') \n",
    "    driver.execute_script(\"arguments[0].click();\", csv_download)\n",
    "    time.sleep(3)"
   ]
  },
  {
   "cell_type": "code",
   "execution_count": null,
   "id": "a6999d76",
   "metadata": {},
   "outputs": [],
   "source": [
    "# DAILY DATA\n",
    "\n",
    "#--- Go to Month Tab\n",
    "button_Month = driver.find_element('xpath', '/html/body/div[1]/div[1]/div[1]/section/div/div[2]/div/div[3]/div[1]/div[1]/button[2]/span')\n",
    "button_Month.click()\n",
    "\n",
    "time.sleep(3)\n",
    "\n",
    "#--- Set the month range\n",
    "first_month='202201'\n",
    "last_month='202304'\n",
    "\n",
    "for i in range(int(first_month), int(last_month)+1):\n",
    "    year=str(i)[0:4]\n",
    "    month=str(i)[4:7]\n",
    "    if int(month) >= 1 and int(month) <= 12:\n",
    "        print(f'Download Data for: {year}/{month}')\n",
    "        button_date = driver.find_element('xpath', '/html/body/div[1]/div[1]/div[1]/section/div/div[2]/div/div[3]/div[1]/div[2]/div/input')\n",
    "        button_date.clear()\n",
    "        button_date.send_keys(f'{year}/{month}')\n",
    "        button_date.send_keys(Keys.RETURN)\n",
    "        export_button = driver.find_element('xpath', '/html/body/div[1]/div[1]/div[1]/section/div/div[2]/div/div[3]/div[2]/div[1]/div[1]/div/button')\n",
    "        export_button.click()\n",
    "        csv_download = driver.find_element('xpath', '/html/body/ul/li[2]') \n",
    "        driver.execute_script(\"arguments[0].click();\", csv_download)\n",
    "        time.sleep(3)\n",
    " "
   ]
  },
  {
   "cell_type": "code",
   "execution_count": null,
   "id": "5b801cd5",
   "metadata": {},
   "outputs": [],
   "source": [
    "# MONTHLY DATA\n",
    "\n",
    "#--- Go to Year Tab\n",
    "button_Year = driver.find_element('xpath', '/html/body/div[1]/div[1]/div[1]/section/div/div[2]/div/div[3]/div[1]/div[1]/button[3]/span')\n",
    "button_Year.click()\n",
    "\n",
    "time.sleep(3)\n",
    "\n",
    "#--- Set the year range\n",
    "first_year='2020'\n",
    "last_year='2023'\n",
    "\n",
    "for year in range(int(first_year), int(last_year)+1):\n",
    "    print(f'Download Data for: {year}')\n",
    "    button_date = driver.find_element('xpath', '/html/body/div[1]/div[1]/div[1]/section/div/div[2]/div/div[3]/div[1]/div[2]/div/input')\n",
    "    button_date.clear()\n",
    "    button_date.send_keys(f'{year}')\n",
    "    button_date.send_keys(Keys.RETURN)\n",
    "    export_button = driver.find_element('xpath', '/html/body/div[1]/div[1]/div[1]/section/div/div[2]/div/div[3]/div[2]/div[1]/div[1]/div/button')\n",
    "    export_button.click()\n",
    "    csv_download = driver.find_element('xpath', '/html/body/ul/li[2]') \n",
    "    driver.execute_script(\"arguments[0].click();\", csv_download)\n",
    "    time.sleep(3)"
   ]
  },
  {
   "cell_type": "code",
   "execution_count": null,
   "id": "ff8131e5",
   "metadata": {},
   "outputs": [],
   "source": []
  }
 ],
 "metadata": {
  "kernelspec": {
   "display_name": "Python 3 (ipykernel)",
   "language": "python",
   "name": "python3"
  },
  "language_info": {
   "codemirror_mode": {
    "name": "ipython",
    "version": 3
   },
   "file_extension": ".py",
   "mimetype": "text/x-python",
   "name": "python",
   "nbconvert_exporter": "python",
   "pygments_lexer": "ipython3",
   "version": "3.10.9"
  }
 },
 "nbformat": 4,
 "nbformat_minor": 5
}
